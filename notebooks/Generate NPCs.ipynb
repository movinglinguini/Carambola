{
 "cells": [
  {
   "cell_type": "code",
   "execution_count": 7,
   "id": "db30d689",
   "metadata": {},
   "outputs": [],
   "source": [
    "import random"
   ]
  },
  {
   "cell_type": "markdown",
   "id": "a6e9ad22",
   "metadata": {},
   "source": [
    "# Generate NPCs\n",
    "\n",
    "This notebook randomly generates NPCs for the [Carambola summer experiment](https://drive.google.com/drive/u/0/folders/1WdmqilUzFeihchQEeGlwF4urL9DTJ19H). Two kinds of NPCs are generated:\n",
    "\n",
    "1. NPCs with completely random values\n",
    "2. NPCs with co-related values"
   ]
  },
  {
   "cell_type": "code",
   "execution_count": 8,
   "id": "f379b160",
   "metadata": {},
   "outputs": [],
   "source": [
    "values_arr = [ 'power', 'achievement', 'hedonism', 'stimulation', 'self-direction', 'universalism', 'benevolence', 'conformity-tradition', 'security' ]\n",
    "values_idx = list(range(len(values_arr)))"
   ]
  },
  {
   "cell_type": "markdown",
   "id": "036751fd",
   "metadata": {},
   "source": [
    "## 1. NPCs with random values"
   ]
  },
  {
   "cell_type": "code",
   "execution_count": 43,
   "id": "42537b51",
   "metadata": {},
   "outputs": [
    {
     "data": {
      "text/plain": [
       "[{'cherishes': [3, 7, 2], 'despises': [0, 6, 5]},\n",
       " {'cherishes': [0, 3, 5], 'despises': [6, 4, 2]},\n",
       " {'cherishes': [0, 4, 6], 'despises': [3, 1, 5]}]"
      ]
     },
     "metadata": {},
     "output_type": "display_data"
    }
   ],
   "source": [
    "npc_control = []\n",
    "for i in range(3):\n",
    "    cherished_arr = random.sample(values_idx, k=3)\n",
    "    possible_despised = [ idx for idx in values_idx if not idx in cherished_arr  ]\n",
    "    despised_arr = random.sample(possible_despised, k=3)\n",
    "    \n",
    "    npc_control.append({\n",
    "        'cherishes': cherished_arr,\n",
    "        'despises': despised_arr\n",
    "    })\n",
    "\n",
    "    \n",
    "display(npc_control)"
   ]
  },
  {
   "cell_type": "markdown",
   "id": "0e56876b",
   "metadata": {},
   "source": [
    "## 2. NPCs with co-related values"
   ]
  },
  {
   "cell_type": "code",
   "execution_count": 39,
   "id": "4e1e7016",
   "metadata": {},
   "outputs": [],
   "source": [
    "def getOppositeIdx(idx, arr):\n",
    "    opposite = idx - (len(arr) // 2)\n",
    "    \n",
    "    if opposite < 0:\n",
    "        opposite = len(arr) + opposite\n",
    "        \n",
    "    return opposite"
   ]
  },
  {
   "cell_type": "code",
   "execution_count": 42,
   "id": "9e5d5bb0",
   "metadata": {},
   "outputs": [
    {
     "data": {
      "text/plain": [
       "[{'cherishes': [8, 7, 0], 'despises': [4, 3, 5]},\n",
       " {'cherishes': [6, 5, 7], 'despises': [2, 1, 3]},\n",
       " {'cherishes': [1, 0, 2], 'despises': [6, 5, 7]}]"
      ]
     },
     "metadata": {},
     "output_type": "display_data"
    }
   ],
   "source": [
    "npc_interv = []\n",
    "for i in range(3):\n",
    "    cherished_arr = []\n",
    "    despised_arr = []\n",
    "    \n",
    "    c1 = random.choice(values_idx)\n",
    "    c2 = c1 - 1 if c1 > 0 else len(values_idx) - 1\n",
    "    c3 = c1 + 1 if c1 < len(values_idx) - 1 else 0\n",
    "    \n",
    "    cherished_arr = [ c1, c2, c3 ]\n",
    "    \n",
    "    d1 = getOppositeIdx(c1, values_idx)\n",
    "    d2 = d1 - 1 if d1 > 0 else len(values_idx) - 1\n",
    "    d3 = d1 + 1 if d1 < len(values_idx) - 1 else 0\n",
    "    \n",
    "    despised_arr = [ d1, d2, d3 ]\n",
    "    \n",
    "    npc_interv.append({\n",
    "        'cherishes': cherished_arr,\n",
    "        'despises': despised_arr\n",
    "    })\n",
    "display(npc_interv)"
   ]
  },
  {
   "cell_type": "code",
   "execution_count": null,
   "id": "6141b3ea",
   "metadata": {},
   "outputs": [],
   "source": []
  }
 ],
 "metadata": {
  "kernelspec": {
   "display_name": "Python 3",
   "language": "python",
   "name": "python3"
  },
  "language_info": {
   "codemirror_mode": {
    "name": "ipython",
    "version": 3
   },
   "file_extension": ".py",
   "mimetype": "text/x-python",
   "name": "python",
   "nbconvert_exporter": "python",
   "pygments_lexer": "ipython3",
   "version": "3.8.8"
  }
 },
 "nbformat": 4,
 "nbformat_minor": 5
}
